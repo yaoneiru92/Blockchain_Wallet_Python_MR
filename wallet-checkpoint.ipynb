{
 "cells": [
  {
   "cell_type": "code",
   "execution_count": 44,
   "metadata": {},
   "outputs": [],
   "source": [
    "# Import dependencies\n",
    "import subprocess\n",
    "import json\n",
    "from dotenv import load_dotenv"
   ]
  },
  {
   "cell_type": "code",
   "execution_count": 45,
   "metadata": {},
   "outputs": [
    {
     "data": {
      "text/plain": [
       "True"
      ]
     },
     "execution_count": 45,
     "metadata": {},
     "output_type": "execute_result"
    }
   ],
   "source": [
    "import os\n",
    "from pathlib import Path\n",
    "abs_path = Path(r'C:\\\\Desktop\\\\Tools\\\\Wallet\\\\.ipynb_checkpoints\\\\.env')\n",
    "load_dotenv(abs_path) "
   ]
  },
  {
   "cell_type": "code",
   "execution_count": 46,
   "metadata": {},
   "outputs": [],
   "source": [
    "# Load and set environment variables\n",
    "load_dotenv()\n",
    "mnemonic = os.getenv(\"mnemonic\")"
   ]
  },
  {
   "cell_type": "code",
   "execution_count": 47,
   "metadata": {},
   "outputs": [],
   "source": [
    "BTC = \"btc\"\n",
    "ETH = \"eth\"\n",
    "BTCTEST = \"btc-test\""
   ]
  },
  {
   "cell_type": "code",
   "execution_count": 48,
   "metadata": {},
   "outputs": [],
   "source": [
    "from web3 import Web3\n",
    "from web3.auto.gethdev import w3\n",
    "from web3.middleware import geth_poa_middleware"
   ]
  },
  {
   "cell_type": "code",
   "execution_count": 49,
   "metadata": {},
   "outputs": [],
   "source": [
    "from bit import wif_to_key\n",
    "from bit import PrivateKeyTestnet\n",
    "from bit.network import NetworkAPI"
   ]
  },
  {
   "cell_type": "code",
   "execution_count": 50,
   "metadata": {},
   "outputs": [],
   "source": [
    "# Create a function called `derive_wallets`\n",
    "def derive_wallets(coin):\n",
    "    command = f'php derive -g --mnemonic=\"{mnemonic}\" --cols=path,address,privkey,pubkey --format=json --coin=\"{coin}\" --numderive=3'\n",
    "    p = subprocess.Popen(command, stdout = subprocess.PIPE, shell = True)\n",
    "    output, err = p.communicate()\n",
    "    p_status = p.wait()\n",
    "    return json.loads(output)"
   ]
  },
  {
   "cell_type": "code",
   "execution_count": 51,
   "metadata": {},
   "outputs": [
    {
     "name": "stdout",
     "output_type": "stream",
     "text": [
      "{'ETH': [{'path': \"m/44'/60'/0'/0/0\", 'address': '0x02B12F117E44D9e5733d5531d9d11acc1963A4f6', 'privkey': '0xa32a3f6494ebca8db48e15596b6675b30894201c547faf8a93c09fe91dc9b03e', 'pubkey': '0245dd25103dbfc242621eac307da4f24a3ee98cc4c246c3f46bdd7a089030703d'}, {'path': \"m/44'/60'/0'/0/1\", 'address': '0x63c227caA2DebeA10dD7A5948c86BD602586166f', 'privkey': '0xd831fc9064b3c5b12806b0e373f65096522d716cc167c285f19653d6d6a4f042', 'pubkey': '027c6e902ba44deb882cbb0a6040e3f28dbab72db5d1ce3c0cdf61387b280e1161'}, {'path': \"m/44'/60'/0'/0/2\", 'address': '0x314522b6688c14484C853ab36f736832eD26d120', 'privkey': '0x1346c4c49e11238520a7a10c931ec360f742e147ff34e95d9e619f801d5709b5', 'pubkey': '02ebc7825747c919067a797e90357b9400542bb96379918a66df12a87d9aa38caf'}], 'BTCTEST': [{'path': \"m/44'/1'/0'/0/0\", 'address': 'mxARvfHb8Ko28pkVxJ5smCC4pLntfLateT', 'privkey': 'cTHycbgnQG7rtjZGfQPEM1p25T5MkNUzMw28nz95dRtp34Jp8M7C', 'pubkey': '0366008b22d9816e5e53632e86b135fdc4dc1546ed7df63073418ff8a840ce8348'}, {'path': \"m/44'/1'/0'/0/1\", 'address': 'mxSBXpH9eMVdSDMon8F68XPiA278wBxgbS', 'privkey': 'cP1hBwUnxLZWLpg95N2tTtUh4fkYh8GnKMMA1qHN21F5j5hBbUez', 'pubkey': '02061a8bea97bb8441dd1e6d52ec2eb5239a2a2c0aba3403e505339c8f967755c7'}, {'path': \"m/44'/1'/0'/0/2\", 'address': 'mfyttZd3VnPiJxnF9zqa92nu2ooRRebYws', 'privkey': 'cNkrKvdBtB6pbyMWTRKT8vjzwXLdMQYX1yVussVgyomvsfnZ2G6T', 'pubkey': '036553b437f125c1967b05dc2f76d1145b49706112e23edda418172efd73c34ad3'}]}\n"
     ]
    }
   ],
   "source": [
    "coins = {\n",
    "    \"ETH\": derive_wallets(ETH),\n",
    "    \"BTCTEST\": derive_wallets(BTCTEST)\n",
    "}    \n",
    "print(coins)"
   ]
  },
  {
   "cell_type": "code",
   "execution_count": 52,
   "metadata": {},
   "outputs": [
    {
     "data": {
      "text/plain": [
       "'0xa32a3f6494ebca8db48e15596b6675b30894201c547faf8a93c09fe91dc9b03e'"
      ]
     },
     "execution_count": 52,
     "metadata": {},
     "output_type": "execute_result"
    }
   ],
   "source": [
    "coins['ETH'][0]['privkey']"
   ]
  },
  {
   "cell_type": "code",
   "execution_count": 53,
   "metadata": {},
   "outputs": [
    {
     "data": {
      "text/plain": [
       "'0xd831fc9064b3c5b12806b0e373f65096522d716cc167c285f19653d6d6a4f042'"
      ]
     },
     "execution_count": 53,
     "metadata": {},
     "output_type": "execute_result"
    }
   ],
   "source": [
    "coins['ETH'][1]['privkey']"
   ]
  },
  {
   "cell_type": "code",
   "execution_count": 54,
   "metadata": {},
   "outputs": [
    {
     "data": {
      "text/plain": [
       "'0x1346c4c49e11238520a7a10c931ec360f742e147ff34e95d9e619f801d5709b5'"
      ]
     },
     "execution_count": 54,
     "metadata": {},
     "output_type": "execute_result"
    }
   ],
   "source": [
    "coins['ETH'][2]['privkey']"
   ]
  },
  {
   "cell_type": "code",
   "execution_count": 55,
   "metadata": {},
   "outputs": [
    {
     "data": {
      "text/plain": [
       "'cTHycbgnQG7rtjZGfQPEM1p25T5MkNUzMw28nz95dRtp34Jp8M7C'"
      ]
     },
     "execution_count": 55,
     "metadata": {},
     "output_type": "execute_result"
    }
   ],
   "source": [
    "coins['BTCTEST'][0]['privkey']"
   ]
  },
  {
   "cell_type": "code",
   "execution_count": 56,
   "metadata": {},
   "outputs": [
    {
     "data": {
      "text/plain": [
       "'cP1hBwUnxLZWLpg95N2tTtUh4fkYh8GnKMMA1qHN21F5j5hBbUez'"
      ]
     },
     "execution_count": 56,
     "metadata": {},
     "output_type": "execute_result"
    }
   ],
   "source": [
    "coins['BTCTEST'][1]['privkey']"
   ]
  },
  {
   "cell_type": "code",
   "execution_count": 57,
   "metadata": {},
   "outputs": [
    {
     "data": {
      "text/plain": [
       "'cNkrKvdBtB6pbyMWTRKT8vjzwXLdMQYX1yVussVgyomvsfnZ2G6T'"
      ]
     },
     "execution_count": 57,
     "metadata": {},
     "output_type": "execute_result"
    }
   ],
   "source": [
    "coins['BTCTEST'][2]['privkey']"
   ]
  },
  {
   "cell_type": "code",
   "execution_count": 58,
   "metadata": {},
   "outputs": [],
   "source": [
    "def priv_key_to_account(coin, priv_key):\n",
    "    if coin == ETH:\n",
    "        return Account.privateKeyToAccount(priv_key)\n",
    "    if coin == BTCTEST:\n",
    "        return PrivateKetTestnet(priv_key)  \n",
    "    else:\n",
    "        print('Must use either BTCTEST or ETH')"
   ]
  },
  {
   "cell_type": "code",
   "execution_count": 59,
   "metadata": {},
   "outputs": [],
   "source": [
    "def create_tx(coin,account,to,amount):\n",
    "    if coin == BTCTEST:\n",
    "        return bit.PrivateKeyTestnet.prepare_transaction(account.address, [(to,amount,BTC)])\n",
    "    elif coin == ETH:    \n",
    "        gas_estimate = w3.eth.estimateGas(\n",
    "            {'from': account.address,'to': to, 'value': amount}\n",
    "            )\n",
    "        return {\n",
    "            'from': account.address,\n",
    "            'to': to,\n",
    "            'value': amount,\n",
    "            'gasPrice': w3.eth.gasPrice,\n",
    "            'gas': gas_estimate,\n",
    "            'nonce':w3.eth.get.getTransactionCount(account.address)\n",
    "        }    \n",
    "    else:\n",
    "        print('Must use either BTCTEST or ETH')"
   ]
  },
  {
   "cell_type": "code",
   "execution_count": 60,
   "metadata": {},
   "outputs": [],
   "source": [
    "def send_tx(coin, account,to,amount):\n",
    "    if coin == BTCTEST:\n",
    "        raw_tx = create_tx(coin,account,to,amount)\n",
    "        signed = account.sign_transaction(raw_tx)\n",
    "        return NetworkAPI.broadcast_tx_testnet(signed)\n",
    "    elif coin == ETH:\n",
    "        raw_tx = create_tx(coin,account,to,amount)\n",
    "        signed = account.signTransaction(raw_tx)\n",
    "        return w3.eth.sendRawTransaction(signed.rawTransaction)\n",
    "    else:\n",
    "        print('Must use either BTCTEST or ETH')"
   ]
  },
  {
   "cell_type": "code",
   "execution_count": 66,
   "metadata": {},
   "outputs": [
    {
     "data": {
      "text/plain": [
       "[Unspent(amount=100000, confirmations=27, script='76a914b69877ec77e3f7e8e2565c6502656f56e82112b088ac', txid='8b77a913a2dbde58d9b23c1b5543295a9bc21dfdc453f4231141bc40befdf973', txindex=1, segwit=False, sequence=4294967295),\n",
       " Unspent(amount=5443315, confirmations=27290, script='76a914b69877ec77e3f7e8e2565c6502656f56e82112b088ac', txid='b40291f406f75c323d311e00109f8662abec68b77538dcc6303ac69a569f49c8', txindex=1, segwit=False, sequence=4294967295),\n",
       " Unspent(amount=100000, confirmations=27065, script='76a914b69877ec77e3f7e8e2565c6502656f56e82112b088ac', txid='58f921699043421d857e6a9fa30daa5501cb6640a249b11e1f5257017d529ee5', txindex=0, segwit=False, sequence=4294967295)]"
      ]
     },
     "execution_count": 66,
     "metadata": {},
     "output_type": "execute_result"
    }
   ],
   "source": [
    "from bit import wif_to_key\n",
    "\n",
    "key = wif_to_key(\"cTHycbgnQG7rtjZGfQPEM1p25T5MkNUzMw28nz95dRtp34Jp8M7C\")\n",
    "\n",
    "# replace with different addresses\n",
    "addresses = [\n",
    "    \"mxARvfHb8Ko28pkVxJ5smCC4pLntfLateT\",\n",
    "    ]\n",
    "\n",
    "outputs = []\n",
    "\n",
    "for address in addresses:\n",
    "    outputs.append((address, 0.001, \"btc\"))\n",
    "\n",
    "key.get_unspents()\n"
   ]
  },
  {
   "cell_type": "code",
   "execution_count": null,
   "metadata": {},
   "outputs": [],
   "source": []
  },
  {
   "cell_type": "code",
   "execution_count": null,
   "metadata": {},
   "outputs": [],
   "source": []
  }
 ],
 "metadata": {
  "kernelspec": {
   "display_name": "Python 3",
   "language": "python",
   "name": "python3"
  },
  "language_info": {
   "codemirror_mode": {
    "name": "ipython",
    "version": 3
   },
   "file_extension": ".py",
   "mimetype": "text/x-python",
   "name": "python",
   "nbconvert_exporter": "python",
   "pygments_lexer": "ipython3",
   "version": "3.8.5"
  }
 },
 "nbformat": 4,
 "nbformat_minor": 4
}
